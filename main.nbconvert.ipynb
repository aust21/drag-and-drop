{
 "cells": [
  {
   "cell_type": "code",
   "execution_count": 1,
   "id": "246373e8-7433-43ac-bf40-170e72425832",
   "metadata": {
    "execution": {
     "iopub.execute_input": "2024-09-19T20:06:01.373457Z",
     "iopub.status.busy": "2024-09-19T20:06:01.372263Z",
     "iopub.status.idle": "2024-09-19T20:06:02.088635Z",
     "shell.execute_reply": "2024-09-19T20:06:02.087899Z"
    },
    "scrolled": true
   },
   "outputs": [],
   "source": [
    "import sys, random\n",
    "# print(sys.executable)\n",
    "# print(sys.version)\n",
    "import cv2\n",
    "import cvzone\n",
    "import pyautogui\n",
    "import mediapipe as mp\n",
    "from cvzone.HandTrackingModule import HandDetector"
   ]
  },
  {
   "cell_type": "code",
   "execution_count": 2,
   "id": "ba0a99d7-7e6d-4e58-b83c-ea5dad62158e",
   "metadata": {
    "execution": {
     "iopub.execute_input": "2024-09-19T20:06:02.091320Z",
     "iopub.status.busy": "2024-09-19T20:06:02.091058Z",
     "iopub.status.idle": "2024-09-19T20:06:02.095447Z",
     "shell.execute_reply": "2024-09-19T20:06:02.095000Z"
    }
   },
   "outputs": [],
   "source": [
    "def all_fingers_raised(lmList):\n",
    "\n",
    "    if len(lmList) != 21:\n",
    "        return False\n",
    "        \n",
    "    thumb_tip = 4\n",
    "    thumb_ip = 3\n",
    "    index_tip = 8\n",
    "    index_ip = 7\n",
    "    middle_tip = 12\n",
    "    middle_ip = 11\n",
    "    ring_tip = 16\n",
    "    ring_ip = 15\n",
    "    pinky_tip = 20\n",
    "    pinky_ip = 19\n",
    "    return (is_finger_raised(lmList, thumb_tip, thumb_ip) and\n",
    "            is_finger_raised(lmList, index_tip, index_ip) and\n",
    "            is_finger_raised(lmList, middle_tip, middle_ip) and\n",
    "            is_finger_raised(lmList, ring_tip, ring_ip) and\n",
    "            is_finger_raised(lmList, pinky_tip, pinky_ip))\n",
    "\n",
    "def is_finger_raised(lmList, tip, phalanx):\n",
    "    return lmList[tip][1] < lmList[phalanx][1]"
   ]
  },
  {
   "cell_type": "code",
   "execution_count": 3,
   "id": "163e1d65-be65-434c-8cbb-c893017dc685",
   "metadata": {
    "execution": {
     "iopub.execute_input": "2024-09-19T20:06:02.097542Z",
     "iopub.status.busy": "2024-09-19T20:06:02.097362Z",
     "iopub.status.idle": "2024-09-19T20:06:02.101435Z",
     "shell.execute_reply": "2024-09-19T20:06:02.100798Z"
    }
   },
   "outputs": [],
   "source": [
    "def mouse_movement(lmList, screen_width, screen_height, frame):\n",
    "    index_finger = lmList[8][:2]\n",
    "    middle_finger = lmList[12][:2]\n",
    "    distance = ((index_finger[0] - middle_finger[0])**2 + (index_finger[1] - middle_finger[1])**2)**0.5\n",
    "    x = int(index_finger[0] * screen_width / frame.shape[1])\n",
    "    y = int(index_finger[1] * screen_height / frame.shape[0])\n",
    "\n",
    "    # click\n",
    "    if distance < 40:\n",
    "        pyautogui.click()\n",
    "\n",
    "    # Move mouse cursor\n",
    "    pyautogui.moveTo(x, y)"
   ]
  },
  {
   "cell_type": "code",
   "execution_count": 4,
   "id": "0558004e-1526-4a9c-94eb-cec3ccb75061",
   "metadata": {
    "execution": {
     "iopub.execute_input": "2024-09-19T20:06:02.103619Z",
     "iopub.status.busy": "2024-09-19T20:06:02.103412Z",
     "iopub.status.idle": "2024-09-19T20:06:02.106665Z",
     "shell.execute_reply": "2024-09-19T20:06:02.106124Z"
    }
   },
   "outputs": [],
   "source": [
    "def set_camera(screen_width, screen_height):\n",
    "    cap = cv2.VideoCapture(0)\n",
    "    cap.set(3, screen_width)\n",
    "    cap.set(4, screen_height)\n",
    "    return cap"
   ]
  },
  {
   "cell_type": "code",
   "execution_count": 5,
   "id": "95489015-9edc-4b31-b56b-24bed5a8223a",
   "metadata": {
    "execution": {
     "iopub.execute_input": "2024-09-19T20:06:02.108854Z",
     "iopub.status.busy": "2024-09-19T20:06:02.108646Z",
     "iopub.status.idle": "2024-09-19T20:06:02.112888Z",
     "shell.execute_reply": "2024-09-19T20:06:02.112432Z"
    }
   },
   "outputs": [],
   "source": [
    "\n",
    "def run():\n",
    "\n",
    "    hand_detector = HandDetector(detectionCon=0, maxHands=1)\n",
    "    screen_width, screen_height = pyautogui.size()\n",
    "    cap = set_camera(screen_width, screen_height)\n",
    "    while cap.isOpened():\n",
    "        success, frame = cap.read()\n",
    "        if not success:\n",
    "            continue\n",
    "    \n",
    "        frame = cv2.flip(frame, 1)\n",
    "        hands, img = hand_detector.findHands(frame)\n",
    "    \n",
    "        if hands: \n",
    "            lmList = hands[0]['lmList']\n",
    "            \n",
    "            # stops the program\n",
    "            if all_fingers_raised(lmList):\n",
    "                break\n",
    "            \n",
    "            mouse_movement(lmList, screen_width, screen_height, frame)\n",
    "    \n",
    "    cap.release()\n",
    "    cv2.destroyAllWindows()\n"
   ]
  },
  {
   "cell_type": "code",
   "execution_count": 6,
   "id": "9f1855f2-255e-44c3-bfb0-98f0793ecf07",
   "metadata": {
    "execution": {
     "iopub.execute_input": "2024-09-19T20:06:02.115126Z",
     "iopub.status.busy": "2024-09-19T20:06:02.114904Z",
     "iopub.status.idle": "2024-09-19T20:06:12.156721Z",
     "shell.execute_reply": "2024-09-19T20:06:12.155956Z"
    }
   },
   "outputs": [
    {
     "name": "stderr",
     "output_type": "stream",
     "text": [
      "libEGL warning: failed to get driver name for fd -1\n",
      "\n",
      "libEGL warning: MESA-LOADER: failed to retrieve device information\n",
      "\n",
      "libEGL warning: failed to get driver name for fd -1\n",
      "\n",
      "WARNING: All log messages before absl::InitializeLog() is called are written to STDERR\n",
      "I0000 00:00:1726776362.156592   46185 gl_context_egl.cc:85] Successfully initialized EGL. Major : 1 Minor: 5\n",
      "I0000 00:00:1726776362.160806   46241 gl_context.cc:357] GL version: 3.2 (OpenGL ES 3.2 Mesa 24.0.3-1pop1~1711635559~22.04~7a9f319), renderer: Mesa Intel(R) UHD Graphics 620 (WHL GT2)\n",
      "INFO: Created TensorFlow Lite XNNPACK delegate for CPU.\n",
      "W0000 00:00:1726776362.201521   46230 inference_feedback_manager.cc:114] Feedback manager requires a model with a single signature inference. Disabling support for feedback tensors.\n",
      "W0000 00:00:1726776362.225806   46232 inference_feedback_manager.cc:114] Feedback manager requires a model with a single signature inference. Disabling support for feedback tensors.\n"
     ]
    },
    {
     "name": "stderr",
     "output_type": "stream",
     "text": [
      "W0000 00:00:1726776363.314408   46232 landmark_projection_calculator.cc:186] Using NORM_RECT without IMAGE_DIMENSIONS is only supported for the square ROI. Provide IMAGE_DIMENSIONS or use PROJECTION_MATRIX.\n",
      "/home/austin/projects/drag-and-drop/venv/lib/python3.10/site-packages/google/protobuf/symbol_database.py:55: UserWarning: SymbolDatabase.GetPrototype() is deprecated. Please use message_factory.GetMessageClass() instead. SymbolDatabase.GetPrototype() will be removed soon.\n",
      "  warnings.warn('SymbolDatabase.GetPrototype() is deprecated. Please '\n"
     ]
    }
   ],
   "source": [
    "run()"
   ]
  },
  {
   "cell_type": "code",
   "execution_count": null,
   "id": "b2669f2a-24ab-4c11-8002-0d461aba106d",
   "metadata": {},
   "outputs": [],
   "source": []
  }
 ],
 "metadata": {
  "kernelspec": {
   "display_name": "Python 3 (ipykernel)",
   "language": "python",
   "name": "python3"
  },
  "language_info": {
   "codemirror_mode": {
    "name": "ipython",
    "version": 3
   },
   "file_extension": ".py",
   "mimetype": "text/x-python",
   "name": "python",
   "nbconvert_exporter": "python",
   "pygments_lexer": "ipython3",
   "version": "3.10.12"
  }
 },
 "nbformat": 4,
 "nbformat_minor": 5
}

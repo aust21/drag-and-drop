{
 "cells": [
  {
   "cell_type": "code",
   "execution_count": 1,
   "id": "246373e8-7433-43ac-bf40-170e72425832",
   "metadata": {
    "execution": {
     "iopub.execute_input": "2024-08-31T13:36:39.832212Z",
     "iopub.status.busy": "2024-08-31T13:36:39.831927Z",
     "iopub.status.idle": "2024-08-31T13:36:40.509820Z",
     "shell.execute_reply": "2024-08-31T13:36:40.508877Z"
    },
    "scrolled": true
   },
   "outputs": [],
   "source": [
    "import cv2\n",
    "import cvzone\n",
    "from cvzone.HandTrackingModule import HandDetector"
   ]
  },
  {
   "cell_type": "code",
   "execution_count": 2,
   "id": "478372ed-a331-4b85-8a9c-a1bd763fd346",
   "metadata": {
    "execution": {
     "iopub.execute_input": "2024-08-31T13:36:40.513390Z",
     "iopub.status.busy": "2024-08-31T13:36:40.512933Z",
     "iopub.status.idle": "2024-08-31T13:37:03.093583Z",
     "shell.execute_reply": "2024-08-31T13:37:03.092622Z"
    },
    "scrolled": true
   },
   "outputs": [
    {
     "name": "stderr",
     "output_type": "stream",
     "text": [
      "libEGL warning: failed to get driver name for fd -1\n",
      "\n",
      "libEGL warning: MESA-LOADER: failed to retrieve device information\n",
      "\n",
      "libEGL warning: failed to get driver name for fd -1\n",
      "\n",
      "WARNING: All log messages before absl::InitializeLog() is called are written to STDERR\n",
      "I0000 00:00:1725111400.544620    7373 gl_context_egl.cc:85] Successfully initialized EGL. Major : 1 Minor: 5\n",
      "I0000 00:00:1725111400.546610    7426 gl_context.cc:357] GL version: 3.2 (OpenGL ES 3.2 Mesa 24.0.3-1pop1~1711635559~22.04~7a9f319), renderer: Mesa Intel(R) UHD Graphics 620 (WHL GT2)\n",
      "INFO: Created TensorFlow Lite XNNPACK delegate for CPU.\n"
     ]
    }
   ],
   "source": [
    "hand_detector = HandDetector(detectionCon=0)\n",
    "cap = cv2.VideoCapture(0)\n",
    "cap.set(3, 900)\n",
    "cap.set(4, 700)\n",
    "\n",
    "center_x, center_y, width, height = 100, 100, 300, 300\n",
    "\n",
    "\n",
    "while True:\n",
    "    rectangle_color = (255, 0, 255)\n",
    "    ret, frame = cap.read()\n",
    "    frame = cv2.flip(frame, 1)\n",
    "    frame = hand_detector.findHands(frame)\n",
    "    lmList, _ = hand_detector.findPosition(frame)\n",
    "\n",
    "    if lmList:\n",
    "        # x and y of tip of your finger\n",
    "        index_middle_distance, _, _ = hand_detector.findDistance(8, 12, frame)\n",
    "        if index_middle_distance < 40:\n",
    "            cursor = lmList[8]\n",
    "            if center_x - width //2 < cursor[0] < center_x+width //2 and center_y - height //2 < cursor[1] < center_y+height //2:\n",
    "                rectangle_color = (255, 255, 255)\n",
    "                center_x, center_y = cursor\n",
    "\n",
    "    cv2.rectangle(frame, (center_x - width//2, center_y - height//2),\n",
    "                  (center_x+width//2,center_y+height//2), rectangle_color, cv2.FILLED)\n",
    "    cv2.imshow(\"cam\", frame)\n",
    "    \n",
    "    wait_key = cv2.waitKey(1)\n",
    "    if wait_key == ord(\"q\"):\n",
    "        break\n",
    "\n",
    "cap.release()\n",
    "cv2.destroyAllWindows()"
   ]
  },
  {
   "cell_type": "code",
   "execution_count": null,
   "id": "8d4ae2e4-f5fa-4f3a-b937-000c6922afde",
   "metadata": {},
   "outputs": [],
   "source": []
  },
  {
   "cell_type": "code",
   "execution_count": null,
   "id": "5514bd17-0d73-49a7-afc8-f8583e1b225b",
   "metadata": {},
   "outputs": [],
   "source": []
  }
 ],
 "metadata": {
  "kernelspec": {
   "display_name": "Python 3.8",
   "language": "python",
   "name": "python3.8"
  },
  "language_info": {
   "codemirror_mode": {
    "name": "ipython",
    "version": 3
   },
   "file_extension": ".py",
   "mimetype": "text/x-python",
   "name": "python",
   "nbconvert_exporter": "python",
   "pygments_lexer": "ipython3",
   "version": "3.8.17"
  }
 },
 "nbformat": 4,
 "nbformat_minor": 5
}

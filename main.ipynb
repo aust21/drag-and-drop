{
 "cells": [
  {
   "cell_type": "code",
   "execution_count": 1,
   "id": "246373e8-7433-43ac-bf40-170e72425832",
   "metadata": {
    "scrolled": true
   },
   "outputs": [],
   "source": [
    "import sys\n",
    "# print(sys.executable)\n",
    "# print(sys.version)\n",
    "import cv2\n",
    "import cvzone\n",
    "\n",
    "from cvzone.HandTrackingModule import HandDetector"
   ]
  },
  {
   "cell_type": "code",
   "execution_count": 2,
   "id": "228b579f-b2ab-47e9-a43f-26bda33acb85",
   "metadata": {},
   "outputs": [],
   "source": [
    "def all_fingers_raised(lmList):\n",
    "\n",
    "    if len(lmList) != 21:\n",
    "        return False\n",
    "        \n",
    "    thumb_tip = 4\n",
    "    thumb_ip = 3\n",
    "    index_tip = 8\n",
    "    index_ip = 7\n",
    "    middle_tip = 12\n",
    "    middle_ip = 11\n",
    "    ring_tip = 16\n",
    "    ring_ip = 15\n",
    "    pinky_tip = 20\n",
    "    pinky_ip = 19\n",
    "    return (is_finger_raised(lmList, thumb_tip, thumb_ip) and\n",
    "            is_finger_raised(lmList, index_tip, index_ip) and\n",
    "            is_finger_raised(lmList, middle_tip, middle_ip) and\n",
    "            is_finger_raised(lmList, ring_tip, ring_ip) and\n",
    "            is_finger_raised(lmList, pinky_tip, pinky_ip))\n",
    "\n",
    "def is_finger_raised(lmList, tip, phalanx):\n",
    "    return lmList[tip][1] < lmList[phalanx][1]"
   ]
  },
  {
   "cell_type": "code",
   "execution_count": 18,
   "id": "478372ed-a331-4b85-8a9c-a1bd763fd346",
   "metadata": {
    "scrolled": true
   },
   "outputs": [],
   "source": [
    "def set_up(width, height):\n",
    "    cap = cv2.VideoCapture(0)\n",
    "    cap.set(3, width)\n",
    "    cap.set(4, height)\n",
    "    return cap\n",
    "\n",
    "\n",
    "def is_box_dragged(distance, lmList, center_x, center_y, width, height):\n",
    "    if distance < 40:\n",
    "        cursor = lmList[8][:2]\n",
    "        if center_x - width //2 < cursor[0] < center_x+width //2 and center_y - height //2 < cursor[1] < center_y+height //2:\n",
    "            rectangle_color = (255, 255, 255)\n",
    "            center_x, center_y = cursor\n",
    "\n",
    "\n",
    "def detect():\n",
    "    \n",
    "    hand_detector = HandDetector(detectionCon=0, maxHands=1)\n",
    "    width, height = 700, 600\n",
    "    cap = set_up(width, height)\n",
    "    rectangle_color = (255, 0, 255)\n",
    "    \n",
    "    center_x, center_y, width, height = 100, 100, 100, 100\n",
    "    \n",
    "    \n",
    "    while True:\n",
    "        \n",
    "        ret, frame = cap.read()\n",
    "        frame = cv2.flip(frame, 1)\n",
    "        hands, _ = hand_detector.findHands(frame)\n",
    "    \n",
    "        if hands:\n",
    "            # x and y of tip of your finger\n",
    "    \n",
    "            lmList = hands[0]['lmList']\n",
    "    \n",
    "            index_finger = lmList[8][:2]\n",
    "            middle_finger = lmList[12][:2]\n",
    "            distance = ((index_finger[0] - middle_finger[0])**2 + (index_finger[1] - middle_finger[1])**2)**0.5\n",
    "            # index_middle_distance, _, _ = hand_detector.findDistance(8, 12, frame)\n",
    "    \n",
    "            # rectangle turns red when all fingers are raised\n",
    "            if all_fingers_raised(lmList):\n",
    "                cv2.rectangle(frame, (center_x - width//2, center_y - height//2),\n",
    "                      (center_x+width//2,center_y+height//2), rectangle_color, cv2.FILLED)\n",
    "            \n",
    "            is_box_dragged(distance, lmList, center_x, center_y, width, height)\n",
    "    \n",
    "        \n",
    "        cv2.imshow(\"cam\", frame)\n",
    "        \n",
    "        wait_key = cv2.waitKey(1)\n",
    "        if wait_key == ord(\"q\"):\n",
    "            break\n",
    "    \n",
    "    cap.release()\n",
    "    cv2.destroyAllWindows()"
   ]
  },
  {
   "cell_type": "code",
   "execution_count": 19,
   "id": "2e31e26b-80f9-4956-bbdd-d2b6c5e2cd10",
   "metadata": {},
   "outputs": [
    {
     "name": "stderr",
     "output_type": "stream",
     "text": [
      "I0000 00:00:1726244787.939463   26615 gl_context_egl.cc:85] Successfully initialized EGL. Major : 1 Minor: 5\n",
      "I0000 00:00:1726244787.941536   27569 gl_context.cc:357] GL version: 3.2 (OpenGL ES 3.2 Mesa 24.0.3-1pop1~1711635559~22.04~7a9f319), renderer: Mesa Intel(R) UHD Graphics 620 (WHL GT2)\n",
      "W0000 00:00:1726244787.987765   27562 inference_feedback_manager.cc:114] Feedback manager requires a model with a single signature inference. Disabling support for feedback tensors.\n",
      "W0000 00:00:1726244788.020976   27560 inference_feedback_manager.cc:114] Feedback manager requires a model with a single signature inference. Disabling support for feedback tensors.\n"
     ]
    }
   ],
   "source": [
    "detect()"
   ]
  },
  {
   "cell_type": "code",
   "execution_count": null,
   "id": "b0d44619-237e-4e27-b1b0-24522eb702a4",
   "metadata": {},
   "outputs": [],
   "source": []
  }
 ],
 "metadata": {
  "kernelspec": {
   "display_name": "Python 3 (ipykernel)",
   "language": "python",
   "name": "python3"
  },
  "language_info": {
   "codemirror_mode": {
    "name": "ipython",
    "version": 3
   },
   "file_extension": ".py",
   "mimetype": "text/x-python",
   "name": "python",
   "nbconvert_exporter": "python",
   "pygments_lexer": "ipython3",
   "version": "3.10.12"
  }
 },
 "nbformat": 4,
 "nbformat_minor": 5
}

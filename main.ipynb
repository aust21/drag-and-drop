{
 "cells": [
  {
   "cell_type": "code",
   "execution_count": null,
   "id": "246373e8-7433-43ac-bf40-170e72425832",
   "metadata": {
    "scrolled": true
   },
   "outputs": [],
   "source": [
    "import sys, random\n",
    "# print(sys.executable)\n",
    "# print(sys.version)\n",
    "import cv2\n",
    "import cvzone\n",
    "import pyautogui\n",
    "import mediapipe as mp\n",
    "from cvzone.HandTrackingModule import HandDetector"
   ]
  },
  {
   "cell_type": "code",
   "execution_count": null,
   "id": "ba0a99d7-7e6d-4e58-b83c-ea5dad62158e",
   "metadata": {},
   "outputs": [],
   "source": [
    "def all_fingers_raised(lmList):\n",
    "\n",
    "    if len(lmList) != 21:\n",
    "        return False\n",
    "        \n",
    "    thumb_tip = 4\n",
    "    thumb_ip = 3\n",
    "    index_tip = 8\n",
    "    index_ip = 7\n",
    "    middle_tip = 12\n",
    "    middle_ip = 11\n",
    "    ring_tip = 16\n",
    "    ring_ip = 15\n",
    "    pinky_tip = 20\n",
    "    pinky_ip = 19\n",
    "    return (is_finger_raised(lmList, thumb_tip, thumb_ip) and\n",
    "            is_finger_raised(lmList, index_tip, index_ip) and\n",
    "            is_finger_raised(lmList, middle_tip, middle_ip) and\n",
    "            is_finger_raised(lmList, ring_tip, ring_ip) and\n",
    "            is_finger_raised(lmList, pinky_tip, pinky_ip))\n",
    "\n",
    "def is_finger_raised(lmList, tip, phalanx):\n",
    "    return lmList[tip][1] < lmList[phalanx][1]"
   ]
  },
  {
   "cell_type": "code",
   "execution_count": null,
   "id": "95489015-9edc-4b31-b56b-24bed5a8223a",
   "metadata": {},
   "outputs": [],
   "source": [
    "\n",
    "mp_hands = mp.solutions.hands\n",
    "hands = mp_hands.Hands(static_image_mode=False, max_num_hands=1, min_detection_confidence=0.7)\n",
    "mp_draw = mp.solutions.drawing_utils\n",
    "\n",
    "# Get screen size\n",
    "screen_width, screen_height = pyautogui.size()\n",
    "\n",
    "# Start video capture\n",
    "cap = cv2.VideoCapture(0)\n",
    "\n",
    "while cap.isOpened():\n",
    "    success, image = cap.read()\n",
    "    if not success:\n",
    "        print(\"Ignoring empty camera frame.\")\n",
    "        continue\n",
    "\n",
    "    image = cv2.flip(image, 1)\n",
    "    \n",
    "    # Convert the BGR image to RGB\n",
    "    rgb_image = cv2.cvtColor(image, cv2.COLOR_BGR2RGB)\n",
    "\n",
    "    # Process the image and detect hands\n",
    "    results = hands.process(rgb_image)\n",
    "\n",
    "    if results.multi_hand_landmarks:\n",
    "        for hand_landmarks in results.multi_hand_landmarks:\n",
    "            # Draw hand landmarks\n",
    "            mp_draw.draw_landmarks(image, hand_landmarks, mp_hands.HAND_CONNECTIONS)\n",
    "\n",
    "            # Get index finger tip coordinates\n",
    "            index_finger_tip = hand_landmarks.landmark[mp_hands.HandLandmark.INDEX_FINGER_TIP]\n",
    "            thumb_tip = hand_landmarks.landmark[mp_hands.HandLandmark.THUMB_TIP]\n",
    "\n",
    "            # Convert coordinates to pixel values\n",
    "            x = int(index_finger_tip.x * screen_width)\n",
    "            y = int(index_finger_tip.y * screen_height)\n",
    "\n",
    "            # Move mouse cursor\n",
    "            pyautogui.moveTo(x, y)\n",
    "\n",
    "            # Check if index finger and thumb are close (for click)\n",
    "            if abs(index_finger_tip.x - thumb_tip.x) < 0.05 and abs(index_finger_tip.y - thumb_tip.y) < 0.05:\n",
    "                pyautogui.click()\n",
    "\n",
    "    # Display the image\n",
    "    cv2.imshow('Hand Tracking', image)\n",
    "\n",
    "    wait_key = cv2.waitKey(1)\n",
    "    if wait_key == ord('q'):\n",
    "        break\n",
    "\n",
    "cap.release()\n",
    "cv2.destroyAllWindows()"
   ]
  },
  {
   "cell_type": "code",
   "execution_count": null,
   "id": "9f1855f2-255e-44c3-bfb0-98f0793ecf07",
   "metadata": {},
   "outputs": [],
   "source": []
  }
 ],
 "metadata": {
  "kernelspec": {
   "display_name": "Python (myenv)",
   "language": "python",
   "name": "myenv"
  },
  "language_info": {
   "codemirror_mode": {
    "name": "ipython",
    "version": 3
   },
   "file_extension": ".py",
   "mimetype": "text/x-python",
   "name": "python",
   "nbconvert_exporter": "python",
   "pygments_lexer": "ipython3",
   "version": "3.10.12"
  }
 },
 "nbformat": 4,
 "nbformat_minor": 5
}

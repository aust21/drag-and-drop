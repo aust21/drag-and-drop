{
 "cells": [
  {
   "cell_type": "code",
   "execution_count": 2,
   "id": "246373e8-7433-43ac-bf40-170e72425832",
   "metadata": {
    "scrolled": true
   },
   "outputs": [],
   "source": [
    "import sys\n",
    "# print(sys.executable)\n",
    "# print(sys.version)\n",
    "import cv2\n",
    "import cvzone\n",
    "\n",
    "from cvzone.HandTrackingModule import HandDetector"
   ]
  },
  {
   "cell_type": "code",
   "execution_count": 3,
   "id": "228b579f-b2ab-47e9-a43f-26bda33acb85",
   "metadata": {},
   "outputs": [],
   "source": [
    "def all_fingers_raised(lmList):\n",
    "\n",
    "    if len(lmList) != 21:\n",
    "        return False\n",
    "        \n",
    "    thumb_tip = 4\n",
    "    thumb_ip = 3\n",
    "    index_tip = 8\n",
    "    index_ip = 7\n",
    "    middle_tip = 12\n",
    "    middle_ip = 11\n",
    "    ring_tip = 16\n",
    "    ring_ip = 15\n",
    "    pinky_tip = 20\n",
    "    pinky_ip = 19\n",
    "    return (is_finger_raised(lmList, thumb_tip, thumb_ip) and\n",
    "            is_finger_raised(lmList, index_tip, index_ip) and\n",
    "            is_finger_raised(lmList, middle_tip, middle_ip) and\n",
    "            is_finger_raised(lmList, ring_tip, ring_ip) and\n",
    "            is_finger_raised(lmList, pinky_tip, pinky_ip))\n",
    "\n",
    "def is_finger_raised(lmList, tip, phalanx):\n",
    "    return lmList[tip][1] < lmList[phalanx][1]"
   ]
  },
  {
   "cell_type": "code",
   "execution_count": 11,
   "id": "478372ed-a331-4b85-8a9c-a1bd763fd346",
   "metadata": {
    "scrolled": true
   },
   "outputs": [
    {
     "name": "stderr",
     "output_type": "stream",
     "text": [
      "libEGL warning: MESA-LOADER: failed to open iris: /usr/lib/dri/iris_dri.so: cannot open shared object file: No such file or directory (search paths /usr/lib/x86_64-linux-gnu/dri:\\$${ORIGIN}/dri:/usr/lib/dri, suffix _dri)\n",
      "\n",
      "libEGL warning: MESA-LOADER: failed to open zink: /usr/lib/dri/zink_dri.so: cannot open shared object file: No such file or directory (search paths /usr/lib/x86_64-linux-gnu/dri:\\$${ORIGIN}/dri:/usr/lib/dri, suffix _dri)\n",
      "\n",
      "libEGL warning: MESA-LOADER: failed to open swrast: /usr/lib/dri/swrast_dri.so: cannot open shared object file: No such file or directory (search paths /usr/lib/x86_64-linux-gnu/dri:\\$${ORIGIN}/dri:/usr/lib/dri, suffix _dri)\n",
      "\n",
      "libEGL warning: MESA-LOADER: failed to open iris: /usr/lib/dri/iris_dri.so: cannot open shared object file: No such file or directory (search paths /usr/lib/x86_64-linux-gnu/dri:\\$${ORIGIN}/dri:/usr/lib/dri, suffix _dri)\n",
      "\n",
      "libEGL warning: MESA-LOADER: failed to open zink: /usr/lib/dri/zink_dri.so: cannot open shared object file: No such file or directory (search paths /usr/lib/x86_64-linux-gnu/dri:\\$${ORIGIN}/dri:/usr/lib/dri, suffix _dri)\n",
      "\n",
      "libEGL warning: MESA-LOADER: failed to open swrast: /usr/lib/dri/swrast_dri.so: cannot open shared object file: No such file or directory (search paths /usr/lib/x86_64-linux-gnu/dri:\\$${ORIGIN}/dri:/usr/lib/dri, suffix _dri)\n",
      "\n",
      "libEGL warning: MESA-LOADER: failed to open iris: /usr/lib/dri/iris_dri.so: cannot open shared object file: No such file or directory (search paths /usr/lib/x86_64-linux-gnu/dri:\\$${ORIGIN}/dri:/usr/lib/dri, suffix _dri)\n",
      "\n",
      "libEGL warning: MESA-LOADER: failed to open zink: /usr/lib/dri/zink_dri.so: cannot open shared object file: No such file or directory (search paths /usr/lib/x86_64-linux-gnu/dri:\\$${ORIGIN}/dri:/usr/lib/dri, suffix _dri)\n",
      "\n",
      "libEGL warning: MESA-LOADER: failed to open swrast: /usr/lib/dri/swrast_dri.so: cannot open shared object file: No such file or directory (search paths /usr/lib/x86_64-linux-gnu/dri:\\$${ORIGIN}/dri:/usr/lib/dri, suffix _dri)\n",
      "\n",
      "W0000 00:00:1726240932.396564   23880 inference_feedback_manager.cc:114] Feedback manager requires a model with a single signature inference. Disabling support for feedback tensors.\n",
      "W0000 00:00:1726240932.416859   23879 inference_feedback_manager.cc:114] Feedback manager requires a model with a single signature inference. Disabling support for feedback tensors.\n"
     ]
    }
   ],
   "source": [
    "hand_detector = HandDetector(detectionCon=0, maxHands=1)\n",
    "cap = cv2.VideoCapture(0)\n",
    "cap.set(3, 640)  # Set width\n",
    "cap.set(4, 480) \n",
    "\n",
    "center_x, center_y, width, height = 100, 100, 300, 300\n",
    "\n",
    "\n",
    "while True:\n",
    "    rectangle_color = (255, 0, 255)\n",
    "    ret, frame = cap.read()\n",
    "    frame = cv2.flip(frame, 1)\n",
    "    hands, frame = hand_detector.findHands(frame)\n",
    "\n",
    "    if hands:\n",
    "        # x and y of tip of your finger\n",
    "\n",
    "        lmList = hands[0]['lmList']\n",
    "\n",
    "        index_finger = lmList[8][:2]\n",
    "        middle_finger = lmList[12][:2]\n",
    "        distance = ((index_finger[0] - middle_finger[0])**2 + (index_finger[1] - middle_finger[1])**2)**0.5\n",
    "        # index_middle_distance, _, _ = hand_detector.findDistance(8, 12, frame)\n",
    "\n",
    "        if all_fingers_raised(lmList):\n",
    "            rectangle_color = (0, 0, 255)\n",
    "        \n",
    "        if distance < 40:\n",
    "            cursor = lmList[8][:2]\n",
    "            if center_x - width //2 < cursor[0] < center_x+width //2 and center_y - height //2 < cursor[1] < center_y+height //2:\n",
    "                rectangle_color = (255, 255, 255)\n",
    "                center_x, center_y = cursor\n",
    "\n",
    "    cv2.rectangle(frame, (center_x - width//2, center_y - height//2),\n",
    "                  (center_x+width//2,center_y+height//2), rectangle_color, cv2.FILLED)\n",
    "    cv2.imshow(\"cam\", frame)\n",
    "    \n",
    "    wait_key = cv2.waitKey(1)\n",
    "    if wait_key == ord(\"q\"):\n",
    "        break\n",
    "\n",
    "cap.release()\n",
    "cv2.destroyAllWindows()"
   ]
  },
  {
   "cell_type": "code",
   "execution_count": 5,
   "id": "8d4ae2e4-f5fa-4f3a-b937-000c6922afde",
   "metadata": {},
   "outputs": [
    {
     "ename": "ModuleNotFoundError",
     "evalue": "No module named 'pyautogui'",
     "output_type": "error",
     "traceback": [
      "\u001b[0;31m---------------------------------------------------------------------------\u001b[0m",
      "\u001b[0;31mModuleNotFoundError\u001b[0m                       Traceback (most recent call last)",
      "Cell \u001b[0;32mIn[5], line 1\u001b[0m\n\u001b[0;32m----> 1\u001b[0m \u001b[38;5;28;01mimport\u001b[39;00m \u001b[38;5;21;01mpyautogui\u001b[39;00m\u001b[38;5;241m,\u001b[39m \u001b[38;5;21;01mtkinter\u001b[39;00m\n\u001b[1;32m      2\u001b[0m \u001b[38;5;28;01mimport\u001b[39;00m \u001b[38;5;21;01mcv2\u001b[39;00m\n\u001b[1;32m      3\u001b[0m \u001b[38;5;28;01mfrom\u001b[39;00m \u001b[38;5;21;01mcvzone\u001b[39;00m\u001b[38;5;21;01m.\u001b[39;00m\u001b[38;5;21;01mHandTrackingModule\u001b[39;00m \u001b[38;5;28;01mimport\u001b[39;00m HandDetector  \u001b[38;5;66;03m# Assuming you're using this for hand tracking\u001b[39;00m\n",
      "\u001b[0;31mModuleNotFoundError\u001b[0m: No module named 'pyautogui'"
     ]
    }
   ],
   "source": []
  },
  {
   "cell_type": "code",
   "execution_count": null,
   "id": "5a4d7971-4323-4801-bc8f-ac89b4d428a1",
   "metadata": {},
   "outputs": [],
   "source": []
  }
 ],
 "metadata": {
  "kernelspec": {
   "display_name": "Python 3 (ipykernel)",
   "language": "python",
   "name": "python3"
  },
  "language_info": {
   "codemirror_mode": {
    "name": "ipython",
    "version": 3
   },
   "file_extension": ".py",
   "mimetype": "text/x-python",
   "name": "python",
   "nbconvert_exporter": "python",
   "pygments_lexer": "ipython3",
   "version": "3.10.14"
  }
 },
 "nbformat": 4,
 "nbformat_minor": 5
}
